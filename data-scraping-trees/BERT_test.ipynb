{
 "cells": [
  {
   "attachments": {},
   "cell_type": "markdown",
   "metadata": {},
   "source": [
    "Description: Testing and implementation of BERT pretraining on Roe v. Wade datasets. (in progress due to M1 Mac incompatibility with tensorflow text)\n",
    "(I'm now just finding out that you could do Jupyter notebooks in VSCode this whole time. This is a low point.)\n",
    "\n",
    "(Author: Kerria Pang-Naylor)\n",
    "\n",
    "BERT Theory Notes: (Skip)\n",
    "- BERT = Bidirectional Encoder Representations from Transformers \n",
    "- generates contextualized meaning/vectorization of a word (as opposed to fixed word embeddings, i.e., word2vec)\n",
    "- can also make vectorization of a sentence; based on transformer architecture (?)\n",
    "- trained on books and Wikipedia w/ masked language model (trained to fill in the blanks) or next sentence prediction to get word embeddings\n",
    "\n",
    "Source: CodeBasics https://www.youtube.com/watch?v=7kLi8u2dJz0&ab_channel=codebasics\n",
    "\n",
    "ABANDONED FOR GOOGLE COLAB HERE BECAUSE tensorflow_text CAN'T BE DOWNLOADED FOR SOME REASON"
   ]
  },
  {
   "cell_type": "code",
   "execution_count": 3,
   "metadata": {},
   "outputs": [
    {
     "name": "stdout",
     "output_type": "stream",
     "text": [
      "2.11.0\n"
     ]
    },
    {
     "ename": "ImportError",
     "evalue": "cannot import name 'tensorflow_text' from 'tensorflow' (/opt/homebrew/lib/python3.9/site-packages/tensorflow/__init__.py)",
     "output_type": "error",
     "traceback": [
      "\u001b[0;31m---------------------------------------------------------------------------\u001b[0m",
      "\u001b[0;31mImportError\u001b[0m                               Traceback (most recent call last)",
      "\u001b[1;32m/Users/kerria/opinion-dissemination/data-scraping-trees/BERT_test.ipynb Cell 2\u001b[0m in \u001b[0;36m<cell line: 4>\u001b[0;34m()\u001b[0m\n\u001b[1;32m      <a href='vscode-notebook-cell:/Users/kerria/opinion-dissemination/data-scraping-trees/BERT_test.ipynb#W1sZmlsZQ%3D%3D?line=1'>2</a>\u001b[0m \u001b[39mimport\u001b[39;00m \u001b[39mtensorflow_hub\u001b[39;00m \u001b[39mas\u001b[39;00m \u001b[39mhub\u001b[39;00m\n\u001b[1;32m      <a href='vscode-notebook-cell:/Users/kerria/opinion-dissemination/data-scraping-trees/BERT_test.ipynb#W1sZmlsZQ%3D%3D?line=2'>3</a>\u001b[0m \u001b[39mprint\u001b[39m(tf\u001b[39m.\u001b[39m__version__)\n\u001b[0;32m----> <a href='vscode-notebook-cell:/Users/kerria/opinion-dissemination/data-scraping-trees/BERT_test.ipynb#W1sZmlsZQ%3D%3D?line=3'>4</a>\u001b[0m \u001b[39mfrom\u001b[39;00m \u001b[39mtensorflow\u001b[39;00m \u001b[39mimport\u001b[39;00m tensorflow_text\n",
      "\u001b[0;31mImportError\u001b[0m: cannot import name 'tensorflow_text' from 'tensorflow' (/opt/homebrew/lib/python3.9/site-packages/tensorflow/__init__.py)"
     ]
    }
   ],
   "source": [
    "import tensorflow as tf\n",
    "import tensorflow_hub as hub\n",
    "print(tf.__version__)\n",
    "import tensorflow_text as text # not working"
   ]
  }
 ],
 "metadata": {
  "kernelspec": {
   "display_name": "Python 3",
   "language": "python",
   "name": "python3"
  },
  "language_info": {
   "codemirror_mode": {
    "name": "ipython",
    "version": 3
   },
   "file_extension": ".py",
   "mimetype": "text/x-python",
   "name": "python",
   "nbconvert_exporter": "python",
   "pygments_lexer": "ipython3",
   "version": "3.9.13"
  },
  "orig_nbformat": 4,
  "vscode": {
   "interpreter": {
    "hash": "b0fa6594d8f4cbf19f97940f81e996739fb7646882a419484c72d19e05852a7e"
   }
  }
 },
 "nbformat": 4,
 "nbformat_minor": 2
}
