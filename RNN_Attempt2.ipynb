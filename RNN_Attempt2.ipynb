{
  "nbformat": 4,
  "nbformat_minor": 0,
  "metadata": {
    "colab": {
      "provenance": [],
      "gpuType": "T4"
    },
    "kernelspec": {
      "name": "python3",
      "display_name": "Python 3"
    },
    "language_info": {
      "name": "python"
    },
    "accelerator": "GPU"
  },
  "cells": [
    {
      "cell_type": "markdown",
      "source": [
        "# **RNN Classifier for Tweet Data**\n",
        "\n",
        "This notebook trains the model for an RNN classifier of our data. Word vectorization and recurrent neural network setup followed from youtube.\n"
      ],
      "metadata": {
        "id": "VR0wDf37QZYZ"
      }
    },
    {
      "cell_type": "markdown",
      "source": [
        "First install old version of torchtext because new ones have issues with legacy tools."
      ],
      "metadata": {
        "id": "T2GBA-LXTqDB"
      }
    },
    {
      "cell_type": "code",
      "source": [
        "!pip install torchtext==0.6.0"
      ],
      "metadata": {
        "colab": {
          "base_uri": "https://localhost:8080/"
        },
        "id": "cDsulUpWRlWH",
        "outputId": "e1e4c5e6-2956-4320-8e42-fbbd5d0096d5"
      },
      "execution_count": null,
      "outputs": [
        {
          "output_type": "stream",
          "name": "stdout",
          "text": [
            "Collecting torchtext==0.6.0\n",
            "  Downloading torchtext-0.6.0-py3-none-any.whl (64 kB)\n",
            "\u001b[?25l     \u001b[90m━━━━━━━━━━━━━━━━━━━━━━━━━━━━━━━━━━━━━━━━\u001b[0m \u001b[32m0.0/64.2 kB\u001b[0m \u001b[31m?\u001b[0m eta \u001b[36m-:--:--\u001b[0m\r\u001b[2K     \u001b[90m━━━━━━━━━━━━━━━━━━━━━━━━━━━━━━━━━━━━━━━━\u001b[0m \u001b[32m64.2/64.2 kB\u001b[0m \u001b[31m1.8 MB/s\u001b[0m eta \u001b[36m0:00:00\u001b[0m\n",
            "\u001b[?25hRequirement already satisfied: tqdm in /usr/local/lib/python3.10/dist-packages (from torchtext==0.6.0) (4.66.1)\n",
            "Requirement already satisfied: requests in /usr/local/lib/python3.10/dist-packages (from torchtext==0.6.0) (2.31.0)\n",
            "Requirement already satisfied: torch in /usr/local/lib/python3.10/dist-packages (from torchtext==0.6.0) (2.1.0+cu118)\n",
            "Requirement already satisfied: numpy in /usr/local/lib/python3.10/dist-packages (from torchtext==0.6.0) (1.23.5)\n",
            "Requirement already satisfied: six in /usr/local/lib/python3.10/dist-packages (from torchtext==0.6.0) (1.16.0)\n",
            "Collecting sentencepiece (from torchtext==0.6.0)\n",
            "  Downloading sentencepiece-0.1.99-cp310-cp310-manylinux_2_17_x86_64.manylinux2014_x86_64.whl (1.3 MB)\n",
            "\u001b[2K     \u001b[90m━━━━━━━━━━━━━━━━━━━━━━━━━━━━━━━━━━━━━━━━\u001b[0m \u001b[32m1.3/1.3 MB\u001b[0m \u001b[31m23.1 MB/s\u001b[0m eta \u001b[36m0:00:00\u001b[0m\n",
            "\u001b[?25hRequirement already satisfied: charset-normalizer<4,>=2 in /usr/local/lib/python3.10/dist-packages (from requests->torchtext==0.6.0) (3.3.2)\n",
            "Requirement already satisfied: idna<4,>=2.5 in /usr/local/lib/python3.10/dist-packages (from requests->torchtext==0.6.0) (3.4)\n",
            "Requirement already satisfied: urllib3<3,>=1.21.1 in /usr/local/lib/python3.10/dist-packages (from requests->torchtext==0.6.0) (2.0.7)\n",
            "Requirement already satisfied: certifi>=2017.4.17 in /usr/local/lib/python3.10/dist-packages (from requests->torchtext==0.6.0) (2023.7.22)\n",
            "Requirement already satisfied: filelock in /usr/local/lib/python3.10/dist-packages (from torch->torchtext==0.6.0) (3.13.1)\n",
            "Requirement already satisfied: typing-extensions in /usr/local/lib/python3.10/dist-packages (from torch->torchtext==0.6.0) (4.5.0)\n",
            "Requirement already satisfied: sympy in /usr/local/lib/python3.10/dist-packages (from torch->torchtext==0.6.0) (1.12)\n",
            "Requirement already satisfied: networkx in /usr/local/lib/python3.10/dist-packages (from torch->torchtext==0.6.0) (3.2.1)\n",
            "Requirement already satisfied: jinja2 in /usr/local/lib/python3.10/dist-packages (from torch->torchtext==0.6.0) (3.1.2)\n",
            "Requirement already satisfied: fsspec in /usr/local/lib/python3.10/dist-packages (from torch->torchtext==0.6.0) (2023.6.0)\n",
            "Requirement already satisfied: triton==2.1.0 in /usr/local/lib/python3.10/dist-packages (from torch->torchtext==0.6.0) (2.1.0)\n",
            "Requirement already satisfied: MarkupSafe>=2.0 in /usr/local/lib/python3.10/dist-packages (from jinja2->torch->torchtext==0.6.0) (2.1.3)\n",
            "Requirement already satisfied: mpmath>=0.19 in /usr/local/lib/python3.10/dist-packages (from sympy->torch->torchtext==0.6.0) (1.3.0)\n",
            "Installing collected packages: sentencepiece, torchtext\n",
            "  Attempting uninstall: torchtext\n",
            "    Found existing installation: torchtext 0.16.0\n",
            "    Uninstalling torchtext-0.16.0:\n",
            "      Successfully uninstalled torchtext-0.16.0\n",
            "Successfully installed sentencepiece-0.1.99 torchtext-0.6.0\n"
          ]
        }
      ]
    },
    {
      "cell_type": "markdown",
      "source": [
        "Import necessary libraries"
      ],
      "metadata": {
        "id": "lKOTkda4T5J4"
      }
    },
    {
      "cell_type": "code",
      "source": [
        "import torch\n",
        "import torch.nn.functional as F\n",
        "import torchtext\n",
        "import time\n",
        "import random\n",
        "import pandas as pd"
      ],
      "metadata": {
        "id": "gCbYs3GrTxCI"
      },
      "execution_count": null,
      "outputs": []
    },
    {
      "cell_type": "markdown",
      "source": [
        "Settings for different parameters."
      ],
      "metadata": {
        "id": "MvdxN8P4UAGs"
      }
    },
    {
      "cell_type": "code",
      "source": [
        "# select regularization type and strength\n",
        "L1_REG = True\n",
        "l1_lambda = 0.01\n",
        "\n",
        "L2_REG = False\n",
        "l2_lambda = 0.01\n",
        "\n",
        "# select data balancing choice\n",
        "choice = \"deletion\"\n",
        "\n",
        "\n",
        "RANDOM_SEED = 42\n",
        "torch.manual_seed(RANDOM_SEED)\n",
        "\n",
        "VOCABULARY_SIZE = 10000\n",
        "LEARNING_RATE = 0.005\n",
        "BATCH_SIZE = 128\n",
        "NUM_EPOCHS = 15\n",
        "DEVICE = torch.device('cuda:0' if torch.cuda.is_available() else 'cpu')\n",
        "\n",
        "EMBEDDING_DIM = 128\n",
        "HIDDEN_DIM = 256\n",
        "NUM_CLASSES = 2\n",
        "DATA_PATH = \"/content/tweets.csv\""
      ],
      "metadata": {
        "id": "FPeUlIEJT9n5"
      },
      "execution_count": null,
      "outputs": []
    },
    {
      "cell_type": "markdown",
      "source": [
        "## Setup and Format Data\n"
      ],
      "metadata": {
        "id": "ZXDexYm4ULte"
      }
    },
    {
      "cell_type": "markdown",
      "source": [
        "Balance data by either duplication or deletion (to prevent overfitting)"
      ],
      "metadata": {
        "id": "BVMahw_xxZJk"
      }
    },
    {
      "cell_type": "code",
      "source": [
        "\n",
        "df = pd.read_csv(\"/content/tweets.csv\")\n",
        "\n",
        "# Count the occurrences of each label\n",
        "label_counts = df['label'].value_counts()\n",
        "\n",
        "# Count minority labels\n",
        "minority_label = label_counts.idxmin()\n",
        "minority_count = label_counts.min()\n",
        "\n",
        "# Find indices of the majority class to delete excess samples\n",
        "majority_indices = df[df['label'] != minority_label].index\n",
        "excess_majority_indices = majority_indices[minority_count:]\n",
        "\n",
        "if choice == \"deletion\":\n",
        "  # Delete excess samples from the majority class to balance the dataset\n",
        "  balanced_df = df.drop(excess_majority_indices)\n",
        "  balanced_df.to_csv(\"/content/tweetsDEL.csv\", index=False)\n",
        "  DATA_PATH = \"/content/tweetsDEL.csv\"\n",
        "if choice == \"duplication\":\n",
        "  duplicate_indices = pd.Series(minority_indices).sample(n=abs(label_counts.diff().values[0]), replace=True).values\n",
        "  duplicated_samples = df.loc[duplicate_indices]\n",
        "  balanced_df = df.append(duplicated_samples, ignore_index=True)\n",
        "  balanced_df.to_csv(\"/content/tweetsDUP.csv\", index=False)\n",
        "  DATA_PATH = \"/content/tweetsDUP.csv\"\n",
        "\n",
        "# Verify the new class distribution\n",
        "print(balanced_df['label'].value_counts())"
      ],
      "metadata": {
        "colab": {
          "base_uri": "https://localhost:8080/"
        },
        "id": "t5rixSfgxfBl",
        "outputId": "7b58d900-5499-4196-99cc-b1c1e7e5ce1a"
      },
      "execution_count": null,
      "outputs": [
        {
          "output_type": "stream",
          "name": "stdout",
          "text": [
            "0    6182\n",
            "1    6182\n",
            "Name: label, dtype: int64\n"
          ]
        }
      ]
    },
    {
      "cell_type": "markdown",
      "source": [
        "Define text and label formatters"
      ],
      "metadata": {
        "id": "mnY04moYWE4X"
      }
    },
    {
      "cell_type": "code",
      "source": [
        "TEXT = torchtext.data.Field(tokenize='spacy', tokenizer_language='en_core_web_sm')\n",
        "LABEL = torchtext.data.LabelField(dtype=torch.long)"
      ],
      "metadata": {
        "id": "7DAVzmWaVOPv"
      },
      "execution_count": null,
      "outputs": []
    },
    {
      "cell_type": "markdown",
      "source": [
        "Process/format data."
      ],
      "metadata": {
        "id": "7dyUqipHWZz1"
      }
    },
    {
      "cell_type": "code",
      "source": [
        "fields = [(\"text\", TEXT), (\"label\", LABEL)]\n",
        "dataset = torchtext.data.TabularDataset(\n",
        "    path=DATA_PATH, format='csv',\n",
        "    skip_header=True, fields=fields)"
      ],
      "metadata": {
        "id": "ncNIvzDEWYWZ"
      },
      "execution_count": null,
      "outputs": []
    },
    {
      "cell_type": "markdown",
      "source": [
        "## Split Dataset into Test/Train/Validation sets\n",
        "\n",
        "Test/Train split\n"
      ],
      "metadata": {
        "id": "fdDi0VXiXfGG"
      }
    },
    {
      "cell_type": "code",
      "source": [
        "train_data, test_data = dataset.split(\n",
        "    split_ratio=[0.8, 0.2],\n",
        "    random_state=random.seed(RANDOM_SEED))"
      ],
      "metadata": {
        "id": "8cxwbtuAXtiI"
      },
      "execution_count": null,
      "outputs": []
    },
    {
      "cell_type": "markdown",
      "source": [
        "Split train into training and validation sets."
      ],
      "metadata": {
        "id": "mYZ2iR2bYEEh"
      }
    },
    {
      "cell_type": "code",
      "source": [
        "train_data, valid_data = train_data.split(\n",
        "    split_ratio=[0.8, 0.20],\n",
        "    random_state=random.seed(RANDOM_SEED))"
      ],
      "metadata": {
        "id": "i9Z7GlQsXwhw"
      },
      "execution_count": null,
      "outputs": []
    },
    {
      "cell_type": "markdown",
      "source": [
        "Show sizes of sets and example text data."
      ],
      "metadata": {
        "id": "jmYEEaXTYYki"
      }
    },
    {
      "cell_type": "code",
      "source": [
        "print(f'Test Size: {len(train_data)}')\n",
        "print(f'Train Size: {len(train_data)}')\n",
        "print(f'Validation Size: {len(valid_data)}')\n",
        "print(vars(train_data.examples[2]))"
      ],
      "metadata": {
        "colab": {
          "base_uri": "https://localhost:8080/"
        },
        "id": "TVzh7GruYIfe",
        "outputId": "25ad5fa9-8004-4fd6-d8c9-a2ffb0f08011"
      },
      "execution_count": null,
      "outputs": [
        {
          "output_type": "stream",
          "name": "stdout",
          "text": [
            "Test Size: 7913\n",
            "Train Size: 7913\n",
            "Validation Size: 1978\n",
            "{'text': ['Praise', 'GOD', 'Praise', 'GOD', 'roe', 'vs', 'Wade', 'has', 'been', 'put', 'to', 'death', '.', 'This', 'is', 'a', 'great', 'great', 'day', '!', 'This', 'is', 'a', 'win', 'for', 'human', 'life', '✝', '️'], 'label': '1'}\n"
          ]
        }
      ]
    },
    {
      "cell_type": "markdown",
      "source": [
        "## Build Vocabulary\n",
        "Valid words are the top frequent VOCABULARY_SIZE words."
      ],
      "metadata": {
        "id": "1yoz-35XYe-l"
      }
    },
    {
      "cell_type": "code",
      "source": [
        "TEXT.build_vocab(train_data, max_size=VOCABULARY_SIZE)\n",
        "LABEL.build_vocab(train_data, max_size = 2)\n",
        "print(f'Vocabulary size: {len(TEXT.vocab)}')\n",
        "print(f'Label size: {len(LABEL.vocab)}')\n",
        "print(TEXT.vocab.freqs.most_common(20)) # most common words"
      ],
      "metadata": {
        "colab": {
          "base_uri": "https://localhost:8080/"
        },
        "id": "_PEScKVYYyln",
        "outputId": "fdd4f3da-b0c4-4e1d-8fcf-8f0ef6a8a361"
      },
      "execution_count": null,
      "outputs": [
        {
          "output_type": "stream",
          "name": "stdout",
          "text": [
            "Vocabulary size: 10002\n",
            "Label size: 2\n",
            "[('.', 13858), ('the', 8770), ('to', 7973), (',', 7531), ('abortion', 5618), ('a', 4698), ('#', 4483), ('is', 4439), ('of', 4419), ('and', 4390), ('in', 3250), ('I', 2881), ('that', 2816), ('\\n\\n', 2778), ('for', 2776), ('\\n', 2685), ('!', 2616), ('you', 2063), ('it', 1994), ('are', 1984)]\n"
          ]
        }
      ]
    },
    {
      "cell_type": "code",
      "source": [
        "print(TEXT.vocab.freqs.most_common(20))\n",
        "print(TEXT.vocab.itos[:10])\n",
        "print(TEXT.vocab.stoi['the'])\n",
        "print(LABEL.vocab.stoi)\n",
        "LABEL.vocab.freqs"
      ],
      "metadata": {
        "colab": {
          "base_uri": "https://localhost:8080/"
        },
        "id": "MRbTiIsRZhXZ",
        "outputId": "54f29db2-173c-41c4-b853-0a525b6e05db"
      },
      "execution_count": null,
      "outputs": [
        {
          "output_type": "stream",
          "name": "stdout",
          "text": [
            "[('.', 13858), ('the', 8770), ('to', 7973), (',', 7531), ('abortion', 5618), ('a', 4698), ('#', 4483), ('is', 4439), ('of', 4419), ('and', 4390), ('in', 3250), ('I', 2881), ('that', 2816), ('\\n\\n', 2778), ('for', 2776), ('\\n', 2685), ('!', 2616), ('you', 2063), ('it', 1994), ('are', 1984)]\n",
            "['<unk>', '<pad>', '.', 'the', 'to', ',', 'abortion', 'a', '#', 'is']\n",
            "3\n",
            "defaultdict(None, {'0': 0, '1': 1})\n"
          ]
        },
        {
          "output_type": "execute_result",
          "data": {
            "text/plain": [
              "Counter({'0': 4002, '1': 3911})"
            ]
          },
          "metadata": {},
          "execution_count": 11
        }
      ]
    },
    {
      "cell_type": "markdown",
      "source": [
        "## Data Loader\n"
      ],
      "metadata": {
        "id": "QnvujU5yZ9uS"
      }
    },
    {
      "cell_type": "code",
      "source": [
        "train_loader, valid_loader, test_loader = \\\n",
        "    torchtext.data.BucketIterator.splits(\n",
        "        (train_data, valid_data, test_data),\n",
        "         batch_size=BATCH_SIZE,\n",
        "         sort_within_batch=False,\n",
        "         sort_key=lambda x: len(x.text),\n",
        "         device=DEVICE\n",
        "    )"
      ],
      "metadata": {
        "id": "aFjOWgWnaBSW"
      },
      "execution_count": null,
      "outputs": []
    },
    {
      "cell_type": "code",
      "source": [
        "print('Train')\n",
        "for batch in train_loader:\n",
        "    print(f'Text matrix size: {batch.text.size()}')\n",
        "    print(f'Target vector size: {batch.label.size()}')\n",
        "    break\n",
        "\n",
        "print('\\nValid:')\n",
        "for batch in valid_loader:\n",
        "    print(f'Text matrix size: {batch.text.size()}')\n",
        "    print(f'Target vector size: {batch.label.size()}')\n",
        "    break\n",
        "\n",
        "print('\\nTest:')\n",
        "for batch in test_loader:\n",
        "    print(f'Text matrix size: {batch.text.size()}')\n",
        "    print(f'Target vector size: {batch.label.size()}')\n",
        "    break"
      ],
      "metadata": {
        "colab": {
          "base_uri": "https://localhost:8080/"
        },
        "id": "p_SUWBdzaBYj",
        "outputId": "75a71276-c0f7-4ec2-f9bb-00ea76990e8b"
      },
      "execution_count": null,
      "outputs": [
        {
          "output_type": "stream",
          "name": "stdout",
          "text": [
            "Train\n",
            "Text matrix size: torch.Size([69, 128])\n",
            "Target vector size: torch.Size([128])\n",
            "\n",
            "Valid:\n",
            "Text matrix size: torch.Size([13, 128])\n",
            "Target vector size: torch.Size([128])\n",
            "\n",
            "Test:\n",
            "Text matrix size: torch.Size([12, 128])\n",
            "Target vector size: torch.Size([128])\n"
          ]
        }
      ]
    },
    {
      "cell_type": "markdown",
      "source": [
        "## Build Neural Network"
      ],
      "metadata": {
        "id": "mkIpjCZaafi3"
      }
    },
    {
      "cell_type": "code",
      "source": [
        "class RNN(torch.nn.Module):\n",
        "\n",
        "    def __init__(self, input_dim, embedding_dim, hidden_dim, output_dim):\n",
        "        super().__init__()\n",
        "\n",
        "        self.embedding = torch.nn.Embedding(input_dim, embedding_dim)\n",
        "        # self.rnn = torch.nn.RNN(embedding_dim,\n",
        "        #                        hidden_dim,\n",
        "        #                        nonlinearity='relu')\n",
        "        self.rnn = torch.nn.LSTM(input_size=embedding_dim, hidden_size=hidden_dim)\n",
        "\n",
        "        self.fc = torch.nn.Linear(hidden_dim, output_dim)\n",
        "\n",
        "\n",
        "    def forward(self, text):\n",
        "        # text dim: [sentence length, batch size]\n",
        "\n",
        "        embedded = self.embedding(text)\n",
        "        # embedded dim: [sentence length, batch size, embedding dim]\n",
        "\n",
        "        output, (hidden, cell) = self.rnn(embedded)\n",
        "        # output dim: [sentence length, batch size, hidden dim]\n",
        "        # hidden dim: [1, batch size, hidden dim]\n",
        "\n",
        "        hidden.squeeze_(0)\n",
        "        # hidden dim: [batch size, hidden dim]\n",
        "\n",
        "        output = self.fc(hidden)\n",
        "        return output"
      ],
      "metadata": {
        "id": "WthFTcb_aazO"
      },
      "execution_count": null,
      "outputs": []
    },
    {
      "cell_type": "code",
      "source": [
        "torch.manual_seed(RANDOM_SEED)\n",
        "model = RNN(input_dim=len(TEXT.vocab),\n",
        "            embedding_dim=EMBEDDING_DIM,\n",
        "            hidden_dim=HIDDEN_DIM,\n",
        "            output_dim=NUM_CLASSES # could use 1 for binary classification\n",
        ")\n",
        "\n",
        "model = model.to(DEVICE)\n",
        "optimizer = torch.optim.Adam(model.parameters(), lr=0.005) # use weight decay for l2 regularization"
      ],
      "metadata": {
        "id": "RTCuyeZbadh8"
      },
      "execution_count": null,
      "outputs": []
    },
    {
      "cell_type": "markdown",
      "source": [
        "## Train Neural Network"
      ],
      "metadata": {
        "id": "BD5YIU6zai-8"
      }
    },
    {
      "cell_type": "code",
      "source": [
        "def compute_accuracy(model, data_loader, device):\n",
        "\n",
        "    with torch.no_grad():\n",
        "\n",
        "        correct_pred, num_examples = 0, 0\n",
        "\n",
        "        for i, (features, targets) in enumerate(data_loader):\n",
        "\n",
        "            features = features.to(device)\n",
        "            targets = targets.float().to(device)\n",
        "\n",
        "            logits = model(features)\n",
        "            _, predicted_labels = torch.max(logits, 1)\n",
        "\n",
        "            num_examples += targets.size(0)\n",
        "            correct_pred += (predicted_labels == targets).sum()\n",
        "    return correct_pred.float()/num_examples * 100"
      ],
      "metadata": {
        "id": "8du5AFqHak0Y"
      },
      "execution_count": null,
      "outputs": []
    },
    {
      "cell_type": "code",
      "source": [
        "start_time = time.time()\n",
        "\n",
        "for epoch in range(NUM_EPOCHS):\n",
        "    model.train()\n",
        "    for batch_idx, batch_data in enumerate(train_loader):\n",
        "\n",
        "        text = batch_data.text.to(DEVICE)\n",
        "        labels = batch_data.label.to(DEVICE)\n",
        "\n",
        "        ### FORWARD AND BACK PROP\n",
        "\n",
        "        logits = model(text)\n",
        "\n",
        "        # regularization (optional)\n",
        "        loss = F.cross_entropy(logits, labels) # cross entropy loss tends to be better for classification problems\n",
        "        #if L1_REG:\n",
        "\n",
        "\n",
        "        optimizer.zero_grad()\n",
        "\n",
        "        loss.backward()\n",
        "\n",
        "        # UPDATE MODEL PARAMETERS\n",
        "        optimizer.step()\n",
        "\n",
        "        # LOGGING\n",
        "        if not batch_idx % 50:\n",
        "            print (f'Epoch: {epoch+1:03d}/{NUM_EPOCHS:03d} | '\n",
        "                   f'Batch {batch_idx:03d}/{len(train_loader):03d} | '\n",
        "                   f'Loss: {loss:.4f}')\n",
        "\n",
        "    with torch.set_grad_enabled(False):\n",
        "        print(f'training accuracy: '\n",
        "              f'{compute_accuracy(model, train_loader, DEVICE):.2f}%'\n",
        "              f'\\nvalid accuracy: '\n",
        "              f'{compute_accuracy(model, valid_loader, DEVICE):.2f}%')\n",
        "\n",
        "    print(f'Time elapsed: {(time.time() - start_time)/60:.2f} min')\n",
        "\n",
        "print(f'Total Training Time: {(time.time() - start_time)/60:.2f} min')\n",
        "print(f'Test accuracy: {compute_accuracy(model, test_loader, DEVICE):.2f}%')"
      ],
      "metadata": {
        "colab": {
          "base_uri": "https://localhost:8080/"
        },
        "id": "qiWvVMODatCp",
        "outputId": "26f510b3-b90b-400d-fb4d-8eaa651ae479"
      },
      "execution_count": null,
      "outputs": [
        {
          "output_type": "stream",
          "name": "stdout",
          "text": [
            "Epoch: 001/015 | Batch 000/062 | Loss: 0.6875\n",
            "Epoch: 001/015 | Batch 050/062 | Loss: 0.6935\n",
            "training accuracy: 50.63%\n",
            "valid accuracy: 48.89%\n",
            "Time elapsed: 0.04 min\n",
            "Epoch: 002/015 | Batch 000/062 | Loss: 0.6925\n",
            "Epoch: 002/015 | Batch 050/062 | Loss: 0.6866\n",
            "training accuracy: 50.28%\n",
            "valid accuracy: 48.94%\n",
            "Time elapsed: 0.06 min\n",
            "Epoch: 003/015 | Batch 000/062 | Loss: 0.6957\n",
            "Epoch: 003/015 | Batch 050/062 | Loss: 0.6907\n",
            "training accuracy: 50.64%\n",
            "valid accuracy: 49.14%\n",
            "Time elapsed: 0.08 min\n",
            "Epoch: 004/015 | Batch 000/062 | Loss: 0.6937\n",
            "Epoch: 004/015 | Batch 050/062 | Loss: 0.6946\n",
            "training accuracy: 50.64%\n",
            "valid accuracy: 49.29%\n",
            "Time elapsed: 0.09 min\n",
            "Epoch: 005/015 | Batch 000/062 | Loss: 0.6880\n",
            "Epoch: 005/015 | Batch 050/062 | Loss: 0.6900\n",
            "training accuracy: 49.87%\n",
            "valid accuracy: 49.80%\n",
            "Time elapsed: 0.11 min\n",
            "Epoch: 006/015 | Batch 000/062 | Loss: 0.6893\n",
            "Epoch: 006/015 | Batch 050/062 | Loss: 0.6926\n",
            "training accuracy: 50.78%\n",
            "valid accuracy: 49.24%\n",
            "Time elapsed: 0.13 min\n",
            "Epoch: 007/015 | Batch 000/062 | Loss: 0.6875\n",
            "Epoch: 007/015 | Batch 050/062 | Loss: 0.6968\n",
            "training accuracy: 52.90%\n",
            "valid accuracy: 54.40%\n",
            "Time elapsed: 0.15 min\n",
            "Epoch: 008/015 | Batch 000/062 | Loss: 0.6959\n",
            "Epoch: 008/015 | Batch 050/062 | Loss: 0.6692\n",
            "training accuracy: 52.05%\n",
            "valid accuracy: 52.63%\n",
            "Time elapsed: 0.16 min\n",
            "Epoch: 009/015 | Batch 000/062 | Loss: 0.6930\n",
            "Epoch: 009/015 | Batch 050/062 | Loss: 0.6431\n",
            "training accuracy: 74.64%\n",
            "valid accuracy: 65.12%\n",
            "Time elapsed: 0.18 min\n",
            "Epoch: 010/015 | Batch 000/062 | Loss: 0.5684\n",
            "Epoch: 010/015 | Batch 050/062 | Loss: 0.4953\n",
            "training accuracy: 82.72%\n",
            "valid accuracy: 69.16%\n",
            "Time elapsed: 0.20 min\n",
            "Epoch: 011/015 | Batch 000/062 | Loss: 0.4521\n",
            "Epoch: 011/015 | Batch 050/062 | Loss: 0.2550\n",
            "training accuracy: 90.57%\n",
            "valid accuracy: 73.41%\n",
            "Time elapsed: 0.22 min\n",
            "Epoch: 012/015 | Batch 000/062 | Loss: 0.3225\n",
            "Epoch: 012/015 | Batch 050/062 | Loss: 0.1989\n",
            "training accuracy: 93.95%\n",
            "valid accuracy: 73.66%\n",
            "Time elapsed: 0.24 min\n",
            "Epoch: 013/015 | Batch 000/062 | Loss: 0.1452\n",
            "Epoch: 013/015 | Batch 050/062 | Loss: 0.1977\n",
            "training accuracy: 96.10%\n",
            "valid accuracy: 73.66%\n",
            "Time elapsed: 0.26 min\n",
            "Epoch: 014/015 | Batch 000/062 | Loss: 0.1388\n",
            "Epoch: 014/015 | Batch 050/062 | Loss: 0.1542\n",
            "training accuracy: 97.21%\n",
            "valid accuracy: 74.67%\n",
            "Time elapsed: 0.28 min\n",
            "Epoch: 015/015 | Batch 000/062 | Loss: 0.0550\n",
            "Epoch: 015/015 | Batch 050/062 | Loss: 0.0345\n",
            "training accuracy: 97.86%\n",
            "valid accuracy: 75.08%\n",
            "Time elapsed: 0.30 min\n",
            "Total Training Time: 0.30 min\n",
            "Test accuracy: 74.36%\n"
          ]
        }
      ]
    },
    {
      "cell_type": "markdown",
      "source": [
        "Test on basic in"
      ],
      "metadata": {
        "id": "XMdbrX2QbH1g"
      }
    },
    {
      "cell_type": "code",
      "source": [
        "import spacy\n",
        "\n",
        "\n",
        "nlp = spacy.blank(\"en\")\n",
        "\n",
        "def predict_side(model, sentence):\n",
        "\n",
        "    model.eval()\n",
        "    tokenized = [token.text for token in nlp.tokenizer(sentence)]\n",
        "    indexed = [TEXT.vocab.stoi[t] for t in tokenized]\n",
        "    length = [len(indexed)]\n",
        "    tensor = torch.LongTensor(indexed).to(DEVICE)\n",
        "    tensor = tensor.unsqueeze(1)\n",
        "    length_tensor = torch.LongTensor(length)\n",
        "    prediction = torch.nn.functional.softmax(model(tensor), dim=1)\n",
        "    return prediction[0][0].item()\n",
        "\n",
        "print('Probability Pro-Life:')\n",
        "print(predict_side(model, \"women's rights are so important\"))\n",
        "print(predict_side(model, \"God loves babies thank god \"))\n",
        "print(predict_side(model, \"We have cats\"))\n",
        "print(predict_side(model, \"Potatoes\"))\n",
        "print(predict_side(model, \"According to all known laws of aviation, a bee should not be able to fly.\"))\n",
        "\n",
        "\n"
      ],
      "metadata": {
        "id": "uc5HQPCwbDeI",
        "colab": {
          "base_uri": "https://localhost:8080/"
        },
        "outputId": "ceca9410-f2d2-4e99-d2ee-d22ddfe77971"
      },
      "execution_count": null,
      "outputs": [
        {
          "output_type": "stream",
          "name": "stdout",
          "text": [
            "Probability Pro-Life:\n",
            "0.6158949732780457\n",
            "0.0028248722665011883\n",
            "0.8079994320869446\n",
            "0.39335471391677856\n",
            "0.9499889016151428\n"
          ]
        }
      ]
    },
    {
      "cell_type": "code",
      "source": [
        "torch.save(model.state_dict(), 'RNN_deletion.pth')\n"
      ],
      "metadata": {
        "id": "hDyXftyQrvPc"
      },
      "execution_count": null,
      "outputs": []
    }
  ]
}